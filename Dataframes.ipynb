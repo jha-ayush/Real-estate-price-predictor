{
 "cells": [
  {
   "cell_type": "code",
   "execution_count": 1,
   "id": "9df73568-bda6-4fc5-ae47-b01d5f135edc",
   "metadata": {
    "tags": []
   },
   "outputs": [
    {
     "name": "stdout",
     "output_type": "stream",
     "text": [
      "Requirement already satisfied: pandas in /Users/ayushjha/opt/anaconda3/envs/dev/lib/python3.7/site-packages (1.3.5)\n",
      "Requirement already satisfied: python-dateutil>=2.7.3 in /Users/ayushjha/opt/anaconda3/envs/dev/lib/python3.7/site-packages (from pandas) (2.8.2)\n",
      "Requirement already satisfied: pytz>=2017.3 in /Users/ayushjha/opt/anaconda3/envs/dev/lib/python3.7/site-packages (from pandas) (2022.7)\n",
      "Requirement already satisfied: numpy>=1.17.3 in /Users/ayushjha/opt/anaconda3/envs/dev/lib/python3.7/site-packages (from pandas) (1.21.6)\n",
      "Requirement already satisfied: six>=1.5 in /Users/ayushjha/opt/anaconda3/envs/dev/lib/python3.7/site-packages (from python-dateutil>=2.7.3->pandas) (1.16.0)\n",
      "\u001b[33mWARNING: Error parsing requirements for websockets: [Errno 2] No such file or directory: '/Users/ayushjha/opt/anaconda3/envs/dev/lib/python3.7/site-packages/websockets-9.1.dist-info/METADATA'\u001b[0m\u001b[33m\n",
      "\u001b[0mRequirement already satisfied: pathlib in /Users/ayushjha/opt/anaconda3/envs/dev/lib/python3.7/site-packages (1.0.1)\n",
      "\u001b[33mWARNING: Error parsing requirements for websockets: [Errno 2] No such file or directory: '/Users/ayushjha/opt/anaconda3/envs/dev/lib/python3.7/site-packages/websockets-9.1.dist-info/METADATA'\u001b[0m\u001b[33m\n",
      "\u001b[0mCollecting python-math\n",
      "  Downloading python_math-0.0.1-py3-none-any.whl (2.4 kB)\n",
      "\u001b[33mWARNING: Error parsing requirements for websockets: [Errno 2] No such file or directory: '/Users/ayushjha/opt/anaconda3/envs/dev/lib/python3.7/site-packages/websockets-9.1.dist-info/METADATA'\u001b[0m\u001b[33m\n",
      "\u001b[0mInstalling collected packages: python-math\n",
      "Successfully installed python-math-0.0.1\n",
      "Requirement already satisfied: lazypredict in /Users/ayushjha/opt/anaconda3/envs/dev/lib/python3.7/site-packages (0.2.12)\n",
      "Requirement already satisfied: click in /Users/ayushjha/opt/anaconda3/envs/dev/lib/python3.7/site-packages (from lazypredict) (8.1.3)\n",
      "Requirement already satisfied: lightgbm in /Users/ayushjha/opt/anaconda3/envs/dev/lib/python3.7/site-packages (from lazypredict) (3.3.5)\n",
      "Requirement already satisfied: xgboost in /Users/ayushjha/opt/anaconda3/envs/dev/lib/python3.7/site-packages (from lazypredict) (1.6.2)\n",
      "Requirement already satisfied: scikit-learn in /Users/ayushjha/opt/anaconda3/envs/dev/lib/python3.7/site-packages (from lazypredict) (1.0.2)\n",
      "Requirement already satisfied: joblib in /Users/ayushjha/opt/anaconda3/envs/dev/lib/python3.7/site-packages (from lazypredict) (1.2.0)\n",
      "Requirement already satisfied: pandas in /Users/ayushjha/opt/anaconda3/envs/dev/lib/python3.7/site-packages (from lazypredict) (1.3.5)\n",
      "Requirement already satisfied: tqdm in /Users/ayushjha/opt/anaconda3/envs/dev/lib/python3.7/site-packages (from lazypredict) (4.64.1)\n",
      "Requirement already satisfied: importlib-metadata in /Users/ayushjha/opt/anaconda3/envs/dev/lib/python3.7/site-packages (from click->lazypredict) (5.2.0)\n",
      "Requirement already satisfied: scipy in /Users/ayushjha/opt/anaconda3/envs/dev/lib/python3.7/site-packages (from lightgbm->lazypredict) (1.7.3)\n",
      "Requirement already satisfied: wheel in /Users/ayushjha/opt/anaconda3/envs/dev/lib/python3.7/site-packages (from lightgbm->lazypredict) (0.37.1)\n",
      "Requirement already satisfied: numpy in /Users/ayushjha/opt/anaconda3/envs/dev/lib/python3.7/site-packages (from lightgbm->lazypredict) (1.21.6)\n",
      "Requirement already satisfied: threadpoolctl>=2.0.0 in /Users/ayushjha/opt/anaconda3/envs/dev/lib/python3.7/site-packages (from scikit-learn->lazypredict) (3.1.0)\n",
      "Requirement already satisfied: python-dateutil>=2.7.3 in /Users/ayushjha/opt/anaconda3/envs/dev/lib/python3.7/site-packages (from pandas->lazypredict) (2.8.2)\n",
      "Requirement already satisfied: pytz>=2017.3 in /Users/ayushjha/opt/anaconda3/envs/dev/lib/python3.7/site-packages (from pandas->lazypredict) (2022.7)\n",
      "Requirement already satisfied: six>=1.5 in /Users/ayushjha/opt/anaconda3/envs/dev/lib/python3.7/site-packages (from python-dateutil>=2.7.3->pandas->lazypredict) (1.16.0)\n",
      "Requirement already satisfied: zipp>=0.5 in /Users/ayushjha/opt/anaconda3/envs/dev/lib/python3.7/site-packages (from importlib-metadata->click->lazypredict) (3.11.0)\n",
      "Requirement already satisfied: typing-extensions>=3.6.4 in /Users/ayushjha/opt/anaconda3/envs/dev/lib/python3.7/site-packages (from importlib-metadata->click->lazypredict) (4.5.0)\n",
      "\u001b[33mWARNING: Error parsing requirements for websockets: [Errno 2] No such file or directory: '/Users/ayushjha/opt/anaconda3/envs/dev/lib/python3.7/site-packages/websockets-9.1.dist-info/METADATA'\u001b[0m\u001b[33m\n",
      "\u001b[0m\u001b[31mERROR: Could not find a version that satisfies the requirement scikit-learnscikit-learn==0.23 (from versions: none)\u001b[0m\u001b[31m\n",
      "\u001b[0m\u001b[31mERROR: No matching distribution found for scikit-learnscikit-learn==0.23\u001b[0m\u001b[31m\n",
      "\u001b[0m"
     ]
    }
   ],
   "source": [
    "!pip install pandas\n",
    "!pip install pathlib\n",
    "!pip install python-math\n",
    "!pip install lazypredict\n",
    "!pip install scikit-learnscikit-learn==0.23"
   ]
  },
  {
   "cell_type": "code",
   "execution_count": 3,
   "id": "9e97046a-6af4-4797-a262-482d8ccb7bf8",
   "metadata": {
    "tags": []
   },
   "outputs": [
    {
     "ename": "OSError",
     "evalue": "dlopen(/Users/ayushjha/opt/anaconda3/envs/dev/lib/python3.7/site-packages/lightgbm/lib_lightgbm.so, 0x0006): Library not loaded: /usr/local/opt/libomp/lib/libomp.dylib\n  Referenced from: <D21A7969-4567-3BC7-94ED-6A9E83AE9D78> /Users/ayushjha/opt/anaconda3/envs/dev/lib/python3.7/site-packages/lightgbm/lib_lightgbm.so\n  Reason: tried: '/usr/local/opt/libomp/lib/libomp.dylib' (no such file), '/System/Volumes/Preboot/Cryptexes/OS/usr/local/opt/libomp/lib/libomp.dylib' (no such file), '/usr/local/opt/libomp/lib/libomp.dylib' (no such file), '/usr/local/lib/libomp.dylib' (no such file), '/usr/lib/libomp.dylib' (no such file, not in dyld cache)",
     "output_type": "error",
     "traceback": [
      "\u001b[0;31m---------------------------------------------------------------------------\u001b[0m",
      "\u001b[0;31mOSError\u001b[0m                                   Traceback (most recent call last)",
      "\u001b[0;32m/var/folders/0k/6khhs1fd7xqgsfgj5sgncg_40000gn/T/ipykernel_39865/1664226236.py\u001b[0m in \u001b[0;36m<module>\u001b[0;34m\u001b[0m\n\u001b[1;32m      6\u001b[0m \u001b[0;32mimport\u001b[0m \u001b[0mnumpy\u001b[0m \u001b[0;32mas\u001b[0m \u001b[0mnp\u001b[0m\u001b[0;34m\u001b[0m\u001b[0;34m\u001b[0m\u001b[0m\n\u001b[1;32m      7\u001b[0m \u001b[0;32mimport\u001b[0m \u001b[0mlazypredict\u001b[0m\u001b[0;34m\u001b[0m\u001b[0;34m\u001b[0m\u001b[0m\n\u001b[0;32m----> 8\u001b[0;31m \u001b[0;32mfrom\u001b[0m \u001b[0mlazypredict\u001b[0m\u001b[0;34m.\u001b[0m\u001b[0mSupervised\u001b[0m \u001b[0;32mimport\u001b[0m \u001b[0mLazyClassifier\u001b[0m\u001b[0;34m\u001b[0m\u001b[0;34m\u001b[0m\u001b[0m\n\u001b[0m\u001b[1;32m      9\u001b[0m \u001b[0;32mfrom\u001b[0m \u001b[0msklearn\u001b[0m\u001b[0;34m.\u001b[0m\u001b[0mdatasets\u001b[0m \u001b[0;32mimport\u001b[0m \u001b[0mload_breast_cancer\u001b[0m\u001b[0;34m\u001b[0m\u001b[0;34m\u001b[0m\u001b[0m\n\u001b[1;32m     10\u001b[0m \u001b[0;32mfrom\u001b[0m \u001b[0msklearn\u001b[0m\u001b[0;34m.\u001b[0m\u001b[0mmodel_selection\u001b[0m \u001b[0;32mimport\u001b[0m \u001b[0mtrain_test_split\u001b[0m\u001b[0;34m\u001b[0m\u001b[0;34m\u001b[0m\u001b[0m\n",
      "\u001b[0;32m~/opt/anaconda3/envs/dev/lib/python3.7/site-packages/lazypredict/Supervised.py\u001b[0m in \u001b[0;36m<module>\u001b[0;34m\u001b[0m\n\u001b[1;32m     28\u001b[0m \u001b[0;34m\u001b[0m\u001b[0m\n\u001b[1;32m     29\u001b[0m \u001b[0;31m# import catboost\u001b[0m\u001b[0;34m\u001b[0m\u001b[0;34m\u001b[0m\u001b[0;34m\u001b[0m\u001b[0m\n\u001b[0;32m---> 30\u001b[0;31m \u001b[0;32mimport\u001b[0m \u001b[0mlightgbm\u001b[0m\u001b[0;34m\u001b[0m\u001b[0;34m\u001b[0m\u001b[0m\n\u001b[0m\u001b[1;32m     31\u001b[0m \u001b[0;34m\u001b[0m\u001b[0m\n\u001b[1;32m     32\u001b[0m \u001b[0mwarnings\u001b[0m\u001b[0;34m.\u001b[0m\u001b[0mfilterwarnings\u001b[0m\u001b[0;34m(\u001b[0m\u001b[0;34m\"ignore\"\u001b[0m\u001b[0;34m)\u001b[0m\u001b[0;34m\u001b[0m\u001b[0;34m\u001b[0m\u001b[0m\n",
      "\u001b[0;32m~/opt/anaconda3/envs/dev/lib/python3.7/site-packages/lightgbm/__init__.py\u001b[0m in \u001b[0;36m<module>\u001b[0;34m\u001b[0m\n\u001b[1;32m      6\u001b[0m \u001b[0;32mfrom\u001b[0m \u001b[0mpathlib\u001b[0m \u001b[0;32mimport\u001b[0m \u001b[0mPath\u001b[0m\u001b[0;34m\u001b[0m\u001b[0;34m\u001b[0m\u001b[0m\n\u001b[1;32m      7\u001b[0m \u001b[0;34m\u001b[0m\u001b[0m\n\u001b[0;32m----> 8\u001b[0;31m \u001b[0;32mfrom\u001b[0m \u001b[0;34m.\u001b[0m\u001b[0mbasic\u001b[0m \u001b[0;32mimport\u001b[0m \u001b[0mBooster\u001b[0m\u001b[0;34m,\u001b[0m \u001b[0mDataset\u001b[0m\u001b[0;34m,\u001b[0m \u001b[0mSequence\u001b[0m\u001b[0;34m,\u001b[0m \u001b[0mregister_logger\u001b[0m\u001b[0;34m\u001b[0m\u001b[0;34m\u001b[0m\u001b[0m\n\u001b[0m\u001b[1;32m      9\u001b[0m \u001b[0;32mfrom\u001b[0m \u001b[0;34m.\u001b[0m\u001b[0mcallback\u001b[0m \u001b[0;32mimport\u001b[0m \u001b[0mearly_stopping\u001b[0m\u001b[0;34m,\u001b[0m \u001b[0mlog_evaluation\u001b[0m\u001b[0;34m,\u001b[0m \u001b[0mprint_evaluation\u001b[0m\u001b[0;34m,\u001b[0m \u001b[0mrecord_evaluation\u001b[0m\u001b[0;34m,\u001b[0m \u001b[0mreset_parameter\u001b[0m\u001b[0;34m\u001b[0m\u001b[0;34m\u001b[0m\u001b[0m\n\u001b[1;32m     10\u001b[0m \u001b[0;32mfrom\u001b[0m \u001b[0;34m.\u001b[0m\u001b[0mengine\u001b[0m \u001b[0;32mimport\u001b[0m \u001b[0mCVBooster\u001b[0m\u001b[0;34m,\u001b[0m \u001b[0mcv\u001b[0m\u001b[0;34m,\u001b[0m \u001b[0mtrain\u001b[0m\u001b[0;34m\u001b[0m\u001b[0;34m\u001b[0m\u001b[0m\n",
      "\u001b[0;32m~/opt/anaconda3/envs/dev/lib/python3.7/site-packages/lightgbm/basic.py\u001b[0m in \u001b[0;36m<module>\u001b[0;34m\u001b[0m\n\u001b[1;32m    108\u001b[0m \u001b[0;34m\u001b[0m\u001b[0m\n\u001b[1;32m    109\u001b[0m \u001b[0;34m\u001b[0m\u001b[0m\n\u001b[0;32m--> 110\u001b[0;31m \u001b[0m_LIB\u001b[0m \u001b[0;34m=\u001b[0m \u001b[0m_load_lib\u001b[0m\u001b[0;34m(\u001b[0m\u001b[0;34m)\u001b[0m\u001b[0;34m\u001b[0m\u001b[0;34m\u001b[0m\u001b[0m\n\u001b[0m\u001b[1;32m    111\u001b[0m \u001b[0;34m\u001b[0m\u001b[0m\n\u001b[1;32m    112\u001b[0m \u001b[0;34m\u001b[0m\u001b[0m\n",
      "\u001b[0;32m~/opt/anaconda3/envs/dev/lib/python3.7/site-packages/lightgbm/basic.py\u001b[0m in \u001b[0;36m_load_lib\u001b[0;34m()\u001b[0m\n\u001b[1;32m     99\u001b[0m     \u001b[0;32mif\u001b[0m \u001b[0mlen\u001b[0m\u001b[0;34m(\u001b[0m\u001b[0mlib_path\u001b[0m\u001b[0;34m)\u001b[0m \u001b[0;34m==\u001b[0m \u001b[0;36m0\u001b[0m\u001b[0;34m:\u001b[0m\u001b[0;34m\u001b[0m\u001b[0;34m\u001b[0m\u001b[0m\n\u001b[1;32m    100\u001b[0m         \u001b[0;32mreturn\u001b[0m \u001b[0;32mNone\u001b[0m\u001b[0;34m\u001b[0m\u001b[0;34m\u001b[0m\u001b[0m\n\u001b[0;32m--> 101\u001b[0;31m     \u001b[0mlib\u001b[0m \u001b[0;34m=\u001b[0m \u001b[0mctypes\u001b[0m\u001b[0;34m.\u001b[0m\u001b[0mcdll\u001b[0m\u001b[0;34m.\u001b[0m\u001b[0mLoadLibrary\u001b[0m\u001b[0;34m(\u001b[0m\u001b[0mlib_path\u001b[0m\u001b[0;34m[\u001b[0m\u001b[0;36m0\u001b[0m\u001b[0;34m]\u001b[0m\u001b[0;34m)\u001b[0m\u001b[0;34m\u001b[0m\u001b[0;34m\u001b[0m\u001b[0m\n\u001b[0m\u001b[1;32m    102\u001b[0m     \u001b[0mlib\u001b[0m\u001b[0;34m.\u001b[0m\u001b[0mLGBM_GetLastError\u001b[0m\u001b[0;34m.\u001b[0m\u001b[0mrestype\u001b[0m \u001b[0;34m=\u001b[0m \u001b[0mctypes\u001b[0m\u001b[0;34m.\u001b[0m\u001b[0mc_char_p\u001b[0m\u001b[0;34m\u001b[0m\u001b[0;34m\u001b[0m\u001b[0m\n\u001b[1;32m    103\u001b[0m     \u001b[0mcallback\u001b[0m \u001b[0;34m=\u001b[0m \u001b[0mctypes\u001b[0m\u001b[0;34m.\u001b[0m\u001b[0mCFUNCTYPE\u001b[0m\u001b[0;34m(\u001b[0m\u001b[0;32mNone\u001b[0m\u001b[0;34m,\u001b[0m \u001b[0mctypes\u001b[0m\u001b[0;34m.\u001b[0m\u001b[0mc_char_p\u001b[0m\u001b[0;34m)\u001b[0m\u001b[0;34m\u001b[0m\u001b[0;34m\u001b[0m\u001b[0m\n",
      "\u001b[0;32m~/opt/anaconda3/envs/dev/lib/python3.7/ctypes/__init__.py\u001b[0m in \u001b[0;36mLoadLibrary\u001b[0;34m(self, name)\u001b[0m\n\u001b[1;32m    440\u001b[0m \u001b[0;34m\u001b[0m\u001b[0m\n\u001b[1;32m    441\u001b[0m     \u001b[0;32mdef\u001b[0m \u001b[0mLoadLibrary\u001b[0m\u001b[0;34m(\u001b[0m\u001b[0mself\u001b[0m\u001b[0;34m,\u001b[0m \u001b[0mname\u001b[0m\u001b[0;34m)\u001b[0m\u001b[0;34m:\u001b[0m\u001b[0;34m\u001b[0m\u001b[0;34m\u001b[0m\u001b[0m\n\u001b[0;32m--> 442\u001b[0;31m         \u001b[0;32mreturn\u001b[0m \u001b[0mself\u001b[0m\u001b[0;34m.\u001b[0m\u001b[0m_dlltype\u001b[0m\u001b[0;34m(\u001b[0m\u001b[0mname\u001b[0m\u001b[0;34m)\u001b[0m\u001b[0;34m\u001b[0m\u001b[0;34m\u001b[0m\u001b[0m\n\u001b[0m\u001b[1;32m    443\u001b[0m \u001b[0;34m\u001b[0m\u001b[0m\n\u001b[1;32m    444\u001b[0m \u001b[0mcdll\u001b[0m \u001b[0;34m=\u001b[0m \u001b[0mLibraryLoader\u001b[0m\u001b[0;34m(\u001b[0m\u001b[0mCDLL\u001b[0m\u001b[0;34m)\u001b[0m\u001b[0;34m\u001b[0m\u001b[0;34m\u001b[0m\u001b[0m\n",
      "\u001b[0;32m~/opt/anaconda3/envs/dev/lib/python3.7/ctypes/__init__.py\u001b[0m in \u001b[0;36m__init__\u001b[0;34m(self, name, mode, handle, use_errno, use_last_error)\u001b[0m\n\u001b[1;32m    362\u001b[0m \u001b[0;34m\u001b[0m\u001b[0m\n\u001b[1;32m    363\u001b[0m         \u001b[0;32mif\u001b[0m \u001b[0mhandle\u001b[0m \u001b[0;32mis\u001b[0m \u001b[0;32mNone\u001b[0m\u001b[0;34m:\u001b[0m\u001b[0;34m\u001b[0m\u001b[0;34m\u001b[0m\u001b[0m\n\u001b[0;32m--> 364\u001b[0;31m             \u001b[0mself\u001b[0m\u001b[0;34m.\u001b[0m\u001b[0m_handle\u001b[0m \u001b[0;34m=\u001b[0m \u001b[0m_dlopen\u001b[0m\u001b[0;34m(\u001b[0m\u001b[0mself\u001b[0m\u001b[0;34m.\u001b[0m\u001b[0m_name\u001b[0m\u001b[0;34m,\u001b[0m \u001b[0mmode\u001b[0m\u001b[0;34m)\u001b[0m\u001b[0;34m\u001b[0m\u001b[0;34m\u001b[0m\u001b[0m\n\u001b[0m\u001b[1;32m    365\u001b[0m         \u001b[0;32melse\u001b[0m\u001b[0;34m:\u001b[0m\u001b[0;34m\u001b[0m\u001b[0;34m\u001b[0m\u001b[0m\n\u001b[1;32m    366\u001b[0m             \u001b[0mself\u001b[0m\u001b[0;34m.\u001b[0m\u001b[0m_handle\u001b[0m \u001b[0;34m=\u001b[0m \u001b[0mhandle\u001b[0m\u001b[0;34m\u001b[0m\u001b[0;34m\u001b[0m\u001b[0m\n",
      "\u001b[0;31mOSError\u001b[0m: dlopen(/Users/ayushjha/opt/anaconda3/envs/dev/lib/python3.7/site-packages/lightgbm/lib_lightgbm.so, 0x0006): Library not loaded: /usr/local/opt/libomp/lib/libomp.dylib\n  Referenced from: <D21A7969-4567-3BC7-94ED-6A9E83AE9D78> /Users/ayushjha/opt/anaconda3/envs/dev/lib/python3.7/site-packages/lightgbm/lib_lightgbm.so\n  Reason: tried: '/usr/local/opt/libomp/lib/libomp.dylib' (no such file), '/System/Volumes/Preboot/Cryptexes/OS/usr/local/opt/libomp/lib/libomp.dylib' (no such file), '/usr/local/opt/libomp/lib/libomp.dylib' (no such file), '/usr/local/lib/libomp.dylib' (no such file), '/usr/lib/libomp.dylib' (no such file, not in dyld cache)"
     ]
    }
   ],
   "source": [
    "import csv\n",
    "import pandas as pd\n",
    "import pathlib as Path\n",
    "import timeit\n",
    "import math\n",
    "import numpy as np\n",
    "import lazypredict\n",
    "from lazypredict.Supervised import LazyClassifier\n",
    "from sklearn.datasets import load_breast_cancer\n",
    "from sklearn.model_selection import train_test_split"
   ]
  },
  {
   "cell_type": "code",
   "execution_count": null,
   "id": "b74d98cc-2349-412c-ac9a-c512d36c65ce",
   "metadata": {},
   "outputs": [],
   "source": [
    "%%time\n",
    "orig_data = pd.read_csv(\"Resources/data.csv\")\n",
    "display(orig_data.head())\n",
    "display(orig_data.tail())"
   ]
  },
  {
   "cell_type": "code",
   "execution_count": null,
   "id": "47fa42c3-dc6a-44e5-811c-96775327da25",
   "metadata": {
    "tags": []
   },
   "outputs": [],
   "source": [
    "data1 =orig_data.drop(columns = [\"status\", \"full_address\", \"street\", \"city\", \"sold_date\"])\n",
    "data1.head()"
   ]
  },
  {
   "cell_type": "code",
   "execution_count": null,
   "id": "241a9723-0ac6-47e0-a955-303cb22986c8",
   "metadata": {
    "tags": []
   },
   "outputs": [],
   "source": [
    "states = data1[\"state\"].unique()\n",
    "states"
   ]
  },
  {
   "cell_type": "code",
   "execution_count": null,
   "id": "d613e408-f29b-404c-9efb-f5dc9cb096be",
   "metadata": {
    "tags": []
   },
   "outputs": [],
   "source": [
    "state_data =data1.groupby(by = \"state\")\n",
    "state_data.head()"
   ]
  },
  {
   "cell_type": "code",
   "execution_count": null,
   "id": "201bfd6f-cad5-4c06-a431-87430cc1e9c5",
   "metadata": {
    "tags": []
   },
   "outputs": [],
   "source": [
    "PR_data = data1[(data1[\"state\"] == \"Puerto Rico\")]\n",
    "PR_data"
   ]
  },
  {
   "cell_type": "code",
   "execution_count": null,
   "id": "87032a9f-4182-468f-b7ce-1b09e4ad18db",
   "metadata": {
    "tags": []
   },
   "outputs": [],
   "source": [
    "PR_data2 = PR_data.drop(columns =[\"state\", \"zip_code\"])\n",
    "PR_data2"
   ]
  },
  {
   "cell_type": "code",
   "execution_count": null,
   "id": "1359ddbe-8776-4990-b2c0-7de3975ee5ae",
   "metadata": {
    "tags": []
   },
   "outputs": [],
   "source": [
    "PRzip = PR_data.zip_code\n",
    "\n",
    "PRzip\n"
   ]
  },
  {
   "cell_type": "raw",
   "id": "648ee1c1-1776-4dab-95b5-4b472b6b0f47",
   "metadata": {
    "tags": []
   },
   "source": []
  },
  {
   "cell_type": "code",
   "execution_count": null,
   "id": "cc103f83-389d-48f8-a297-8e9bb56b5eb2",
   "metadata": {
    "tags": []
   },
   "outputs": [],
   "source": [
    "PRzip2 = PRzip.apply('{:0>7}'.format)\n",
    "PRzip2"
   ]
  },
  {
   "cell_type": "code",
   "execution_count": null,
   "id": "a9ddbdf2-5ae5-4fde-a39a-dc32159edc7d",
   "metadata": {
    "tags": []
   },
   "outputs": [],
   "source": [
    "dfPRzip = pd.DataFrame(PRzip2)\n",
    "dfPRzip"
   ]
  },
  {
   "cell_type": "code",
   "execution_count": null,
   "id": "5fd77878-86bc-498f-9d8e-a7a282ac0f32",
   "metadata": {
    "tags": []
   },
   "outputs": [],
   "source": [
    "# define a function to drop decimals from a string\n",
    "def drop_decimals(string_value):\n",
    "    split_string = string_value.split(\".\")\n",
    "    new_string = split_string[0]\n",
    "    return new_string\n",
    "\n",
    "# apply the function to the column of string values\n",
    "dfPRzip[\"zip_code\"] = dfPRzip[\"zip_code\"].apply(drop_decimals)\n",
    "\n",
    "# print the modified DataFrame\n",
    "print(dfPRzip)"
   ]
  },
  {
   "cell_type": "code",
   "execution_count": null,
   "id": "f38528c3-7d68-480a-aa41-8487b3dbea70",
   "metadata": {
    "tags": []
   },
   "outputs": [],
   "source": [
    "dfPRzipfinal = pd.DataFrame(dfPRzip)\n",
    "dfPRzipfinal"
   ]
  },
  {
   "cell_type": "code",
   "execution_count": null,
   "id": "99a5d28e-2ced-473f-b1c8-94f1cb21b39d",
   "metadata": {
    "tags": []
   },
   "outputs": [],
   "source": [
    "PRzipdatafinal = pd.concat([PR_data2, dfPRzipfinal], axis=1)\n",
    "PRzipdatafinal"
   ]
  },
  {
   "cell_type": "code",
   "execution_count": null,
   "id": "87dfff0f-8880-4068-93a3-d4715598aa1f",
   "metadata": {
    "tags": []
   },
   "outputs": [],
   "source": [
    "na_count = PRzipdatafinal.isna().sum()\n",
    "\n",
    "print(na_count)"
   ]
  },
  {
   "cell_type": "code",
   "execution_count": null,
   "id": "80df6ca1-2ea3-461b-801e-049000218f8f",
   "metadata": {
    "tags": []
   },
   "outputs": [],
   "source": [
    "######\n",
    "PRzipdatafinal[\"bed\"] = PRzipdatafinal.groupby(\"zip_code\")[\"bed\"].transform(lambda x: x.fillna(x.median()))\n",
    "\n",
    "display(PRzipdatafinal)"
   ]
  },
  {
   "cell_type": "code",
   "execution_count": null,
   "id": "003ea43f-717e-4559-b2c0-faefb73760f9",
   "metadata": {
    "tags": []
   },
   "outputs": [],
   "source": [
    "# count the number of missing values in each column\n",
    "na_count = PRzipdatafinal.isna().sum()\n",
    "\n",
    "# print the result\n",
    "print(na_count)"
   ]
  },
  {
   "cell_type": "code",
   "execution_count": null,
   "id": "5601460c-2ec2-4c6d-8eff-634a9dcdaab7",
   "metadata": {
    "tags": []
   },
   "outputs": [],
   "source": [
    "################\n",
    "# fill in missing values with the median value of \"bed\", \"bath\", \"acre_lot\", \"house_size\" grouped by \"zipcode\"\n",
    "PRzipdatafinal[[\"bed\", \"bath\", \"acre_lot\", \"house_size\"]] = PRzipdatafinal.groupby(\"zip_code\")[[\"bed\", \"bath\", \"acre_lot\", \"house_size\"]].transform(lambda x: x.fillna(x.median()))\n",
    "\n",
    "display(PRzipdatafinal)"
   ]
  },
  {
   "cell_type": "code",
   "execution_count": null,
   "id": "4c82e9f4-6b4f-4143-8093-6eb05a93c04b",
   "metadata": {
    "tags": []
   },
   "outputs": [],
   "source": [
    "na_count = PRzipdatafinal.isna().sum()\n",
    "\n",
    "print(na_count)"
   ]
  },
  {
   "cell_type": "code",
   "execution_count": null,
   "id": "12b2aa66-587f-44d3-a789-388fbace60ae",
   "metadata": {
    "tags": []
   },
   "outputs": [],
   "source": [
    "PRzipdatafinal2 = PRzipdatafinal.dropna()"
   ]
  },
  {
   "cell_type": "code",
   "execution_count": null,
   "id": "db134e74-0b6f-4d5f-9be7-04fc1643e88d",
   "metadata": {
    "tags": []
   },
   "outputs": [],
   "source": [
    "na_count = PRzipdatafinal2.isna().sum()\n",
    "\n",
    "print(na_count)"
   ]
  },
  {
   "cell_type": "code",
   "execution_count": null,
   "id": "f5bc1782-2599-4553-91b4-37b3ee1c2c0c",
   "metadata": {
    "tags": []
   },
   "outputs": [],
   "source": [
    "VI_data = data1[(data1[\"state\"] == \"Virgin Islands\")]\n",
    "VI_data"
   ]
  },
  {
   "cell_type": "code",
   "execution_count": null,
   "id": "c5578c47-bb88-4e5e-8059-d325fc5245c3",
   "metadata": {
    "tags": []
   },
   "outputs": [],
   "source": [
    "VI_data2 = VI_data.drop(columns =[\"state\", \"zip_code\"])\n",
    "VI_data2"
   ]
  },
  {
   "cell_type": "code",
   "execution_count": null,
   "id": "8a865651-413c-4b76-bcf7-d405a477ab93",
   "metadata": {
    "tags": []
   },
   "outputs": [],
   "source": [
    "VIzip = VI_data.zip_code\n",
    "\n",
    "VIzip"
   ]
  },
  {
   "cell_type": "code",
   "execution_count": null,
   "id": "89d9feec-84f6-4425-bd81-9fbf3096a4f2",
   "metadata": {
    "tags": []
   },
   "outputs": [],
   "source": [
    "VIzip2 = VIzip.apply('{:0>7}'.format)\n",
    "VIzip2"
   ]
  },
  {
   "cell_type": "code",
   "execution_count": null,
   "id": "ce31b73f-66f8-4395-b3bd-cadfc6c1dabd",
   "metadata": {
    "tags": []
   },
   "outputs": [],
   "source": [
    "dfVIzip = pd.DataFrame(VIzip2)\n",
    "dfVIzip"
   ]
  },
  {
   "cell_type": "code",
   "execution_count": null,
   "id": "64c350e8-414b-48cc-8510-596bd4239996",
   "metadata": {
    "tags": []
   },
   "outputs": [],
   "source": [
    "# define a function to drop decimals from a string\n",
    "def drop_decimals(string_value):\n",
    "    split_string = string_value.split(\".\")\n",
    "    new_string = split_string[0]\n",
    "    return new_string\n",
    "\n",
    "# apply the function to the column of string values\n",
    "dfVIzip[\"zip_code\"] = dfVIzip[\"zip_code\"].apply(drop_decimals)\n",
    "\n",
    "# print the modified DataFrame\n",
    "print(dfVIzip)"
   ]
  },
  {
   "cell_type": "code",
   "execution_count": null,
   "id": "dfe35877-0c23-462d-8668-7a7bcfcb1b56",
   "metadata": {
    "tags": []
   },
   "outputs": [],
   "source": [
    "dfVIzipfinal = pd.DataFrame(dfVIzip)\n",
    "dfVIzipfinal"
   ]
  },
  {
   "cell_type": "code",
   "execution_count": null,
   "id": "8da0e331-1dbb-4349-94f6-2cfe76f884c2",
   "metadata": {
    "tags": []
   },
   "outputs": [],
   "source": [
    "VIzipdatafinal = pd.concat([VI_data2, dfVIzipfinal], axis=1)\n",
    "VIzipdatafinal"
   ]
  },
  {
   "cell_type": "code",
   "execution_count": null,
   "id": "863c1bd9-17b5-4da1-b367-b04498c2d0d3",
   "metadata": {
    "tags": []
   },
   "outputs": [],
   "source": [
    "# fill in missing values with the median value of \"bed\", \"bath\", \"acre_lot\", \"house_size\" grouped by \"zipcode\"\n",
    "VIzipdatafinal[[\"bed\", \"bath\", \"acre_lot\", \"house_size\"]] = VIzipdatafinal.groupby(\"zip_code\")[[\"bed\", \"bath\", \"acre_lot\", \"house_size\"]].transform(lambda x: x.fillna(x.median()))\n",
    "\n",
    "display(VIzipdatafinal)"
   ]
  },
  {
   "cell_type": "code",
   "execution_count": null,
   "id": "d44f5f8f-6c0c-4510-8da8-0b9bf8c1d013",
   "metadata": {
    "tags": []
   },
   "outputs": [],
   "source": [
    "VIzipdatafinal2 = VIzipdatafinal.dropna()\n",
    "VIzipdatafinal2.tail()"
   ]
  },
  {
   "cell_type": "code",
   "execution_count": null,
   "id": "ed1129bb-2614-40f1-992b-8567352bad8d",
   "metadata": {
    "tags": []
   },
   "outputs": [],
   "source": [
    "na_count = VIzipdatafinal2.isna().sum()\n",
    "\n",
    "print(na_count)"
   ]
  },
  {
   "cell_type": "code",
   "execution_count": null,
   "id": "dab654ff-b760-4af5-82a4-6caecc98cf59",
   "metadata": {
    "tags": []
   },
   "outputs": [],
   "source": [
    "M_data = data1[(data1[\"state\"] != \"Puerto Rico\") & (data1[\"state\"] != \"Virgin Islands\")]\n",
    "M_data"
   ]
  },
  {
   "cell_type": "code",
   "execution_count": null,
   "id": "1e97091d-450e-4b55-8ba4-b157e6c31110",
   "metadata": {},
   "outputs": [],
   "source": [
    "M_data2 = mainland_data.drop(columns =[\"state\", \"zip_code\"])\n",
    "M_data2"
   ]
  },
  {
   "cell_type": "code",
   "execution_count": null,
   "id": "08ead164-88ef-43f9-a574-006f0697f482",
   "metadata": {
    "tags": []
   },
   "outputs": [],
   "source": [
    "Mzip = M_data.zip_code\n",
    "\n",
    "Mzip"
   ]
  },
  {
   "cell_type": "code",
   "execution_count": null,
   "id": "725f24ad-872f-4aae-a907-483e317d18c9",
   "metadata": {
    "tags": []
   },
   "outputs": [],
   "source": [
    "Mzip2 = Mzip.apply('{:0>7}'.format)\n",
    "Mzip2"
   ]
  },
  {
   "cell_type": "code",
   "execution_count": null,
   "id": "fe833338-33ac-4bf4-b72b-d3fbc7fda12b",
   "metadata": {
    "tags": []
   },
   "outputs": [],
   "source": [
    "dfMzip = pd.DataFrame(Mzip2)\n",
    "dfMzip"
   ]
  },
  {
   "cell_type": "code",
   "execution_count": null,
   "id": "b9756398-8e90-4c2b-909d-5bcf6842b3f8",
   "metadata": {
    "tags": []
   },
   "outputs": [],
   "source": [
    "# define a function to drop decimals from a string\n",
    "def drop_decimals(string_value):\n",
    "    split_string = string_value.split(\".\")\n",
    "    new_string = split_string[0]\n",
    "    return new_string\n",
    "\n",
    "# apply the function to the column of string values\n",
    "dfMzip[\"zip_code\"] = dfMzip[\"zip_code\"].apply(drop_decimals)\n",
    "\n",
    "# print the modified DataFrame\n",
    "print(dfMzip)"
   ]
  },
  {
   "cell_type": "code",
   "execution_count": null,
   "id": "00f2e5ba-7092-458d-a567-53e7e77bb8cd",
   "metadata": {
    "tags": []
   },
   "outputs": [],
   "source": [
    "dfMzipfinal = pd.DataFrame(dfMzip)\n",
    "dfMzipfinal"
   ]
  },
  {
   "cell_type": "code",
   "execution_count": null,
   "id": "c4fa6339-3d4f-4947-a3bf-931c5da9f91e",
   "metadata": {
    "tags": []
   },
   "outputs": [],
   "source": [
    "Mzipdatafinal = pd.concat([M_data2, dfMzipfinal], axis=1)\n",
    "Mzipdatafinal"
   ]
  },
  {
   "cell_type": "code",
   "execution_count": null,
   "id": "4fe3b2de-b714-4fba-9602-b30072d612cf",
   "metadata": {
    "tags": []
   },
   "outputs": [],
   "source": [
    "na_count = Mzipdatafinal.isna().sum()\n",
    "\n",
    "print(na_count)"
   ]
  },
  {
   "cell_type": "code",
   "execution_count": null,
   "id": "d7eb7601-a3bf-4f34-928b-016bf321fa27",
   "metadata": {
    "tags": []
   },
   "outputs": [],
   "source": [
    "# fill in missing values with the median value of \"bed\", \"bath\", \"acre_lot\", \"house_size\" grouped by \"zipcode\"\n",
    "Mzipdatafinal[[\"bed\", \"bath\", \"acre_lot\", \"house_size\"]] = Mzipdatafinal.groupby(\"zip_code\")[[\"bed\", \"bath\", \"acre_lot\", \"house_size\"]].transform(lambda x: x.fillna(x.median()))\n",
    "\n",
    "display(Mzipdatafinal)"
   ]
  },
  {
   "cell_type": "code",
   "execution_count": null,
   "id": "b5d6bb90-a9c4-49f4-84aa-654f2f8f771e",
   "metadata": {
    "tags": []
   },
   "outputs": [],
   "source": [
    "na_count = Mzipdatafinal.isna().sum()\n",
    "\n",
    "print(na_count)"
   ]
  },
  {
   "cell_type": "code",
   "execution_count": null,
   "id": "9a8bfa15-7db4-4a22-befd-a0f92e468977",
   "metadata": {
    "tags": []
   },
   "outputs": [],
   "source": [
    "Mzipdatafinal2 = Mzipdatafinal.dropna()"
   ]
  },
  {
   "cell_type": "code",
   "execution_count": null,
   "id": "bf62a026-6c5e-4115-9333-ec1075a967e6",
   "metadata": {
    "tags": []
   },
   "outputs": [],
   "source": [
    "na_count = Mzipdatafinal2.isna().sum()\n",
    "\n",
    "print(na_count)"
   ]
  },
  {
   "cell_type": "code",
   "execution_count": null,
   "id": "3e060f8b-bbc1-42e2-aa75-a079ed13fa9f",
   "metadata": {},
   "outputs": [],
   "source": [
    "########## USE LAZY PREDICT HERE\n",
    "### USE THE FOLLOWING 3 DATAFRAMES FOR THE LAZY PREDICT:\n",
    "\n",
    "PRzipdatafinal2\n",
    "VIzipdatafinal2\n",
    "Mzipdatafinal2"
   ]
  },
  {
   "cell_type": "code",
   "execution_count": null,
   "id": "12264a55-f032-4b4e-99df-8ad3336ffc4d",
   "metadata": {
    "tags": []
   },
   "outputs": [],
   "source": [
    "PRzipdatafinal2"
   ]
  },
  {
   "cell_type": "code",
   "execution_count": null,
   "id": "6d659183-7dd2-41fe-8290-29c814a2742c",
   "metadata": {
    "tags": []
   },
   "outputs": [],
   "source": [
    "VIzipdatafinal2"
   ]
  },
  {
   "cell_type": "code",
   "execution_count": null,
   "id": "1b92b879-dec4-4975-b6b3-627f28185c04",
   "metadata": {
    "tags": []
   },
   "outputs": [],
   "source": [
    "PRzipdatafinal2"
   ]
  },
  {
   "cell_type": "code",
   "execution_count": null,
   "id": "f0709fc5-4453-45a7-b2f2-f7df328d02a0",
   "metadata": {},
   "outputs": [],
   "source": [
    "# Save the DataFrame to a CSV file\n",
    "PRzipdatafinal2.to_csv('./Resources/PRzipdatafinal2.csv', index=False)"
   ]
  },
  {
   "cell_type": "code",
   "execution_count": null,
   "id": "66a0564b-7bc9-4630-833a-bacd76355f23",
   "metadata": {},
   "outputs": [],
   "source": [
    "# Save the DataFrame to a CSV file\n",
    "VIzipdatafinal2.to_csv('./Resources/VIzipdatafinal2.csv', index=False)"
   ]
  },
  {
   "cell_type": "code",
   "execution_count": null,
   "id": "2de23820-74f8-4ce4-bd1e-1202a71dedac",
   "metadata": {},
   "outputs": [],
   "source": [
    "# Save the DataFrame to a CSV file\n",
    "Mzipdatafinal2.to_csv('./Resources/Mzipdatafinal2.csv', index=False)"
   ]
  }
 ],
 "metadata": {
  "kernelspec": {
   "display_name": "dev",
   "language": "python",
   "name": "dev"
  },
  "language_info": {
   "codemirror_mode": {
    "name": "ipython",
    "version": 3
   },
   "file_extension": ".py",
   "mimetype": "text/x-python",
   "name": "python",
   "nbconvert_exporter": "python",
   "pygments_lexer": "ipython3",
   "version": "3.7.13"
  }
 },
 "nbformat": 4,
 "nbformat_minor": 5
}
